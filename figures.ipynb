{
 "cells": [
  {
   "cell_type": "code",
   "execution_count": 1,
   "metadata": {},
   "outputs": [],
   "source": [
    "# import packages\n",
    "from pymsaviz import MsaViz"
   ]
  },
  {
   "cell_type": "code",
   "execution_count": null,
   "metadata": {},
   "outputs": [],
   "source": [
    "### --- Figure 3C: Alignment --- ###"
   ]
  },
  {
   "cell_type": "code",
   "execution_count": 2,
   "metadata": {},
   "outputs": [],
   "source": [
    "msa_file = \"/Users/isabellalin/Library/CloudStorage/Box-Box/Feaga Lab/Cassidy Prince/Bella/Bioinformatics for Paper/percent identity/spo0B_domain-containing_clustalo.fasta\"\n",
    "mv = MsaViz(msa_file, wrap_length = 70, show_count=True, color_scheme = \"Identity\")\n",
    "mv.set_plot_params(ticks_interval = None)\n",
    "\n",
    "# Add annotations to residues that interact with Spo0F or Spo0A\n",
    "# B. sub His 30 = position 79\n",
    "mv.add_markers([79], color=\"red\", marker=\"*\")\n",
    "# the other resiudes that interact in the alpha1 helix region\n",
    "mv.add_markers([76, 82, 83, 85, 86, 87, 89, 90, 91, 93, 94, 96], color=\"orange\", marker=\"*\")\n",
    "\n",
    "# Add text annotation\n",
    "mv.add_text_annotation((9, 24), \"transmembrane region\", text_color=\"green\", range_color=\"green\")\n",
    "mv.add_text_annotation((29, 46), \"transmembrane region\", text_color=\"green\", range_color=\"green\")\n",
    "\n",
    "mv.savefig(\"/Users/isabellalin/Library/CloudStorage/Box-Box/Feaga Lab/Cassidy Prince/Bella/Bioinformatics for Paper/percent identity/alignment_clustal.svg\")"
   ]
  }
 ],
 "metadata": {
  "kernelspec": {
   "display_name": "ns4300",
   "language": "python",
   "name": "python3"
  },
  "language_info": {
   "codemirror_mode": {
    "name": "ipython",
    "version": 3
   },
   "file_extension": ".py",
   "mimetype": "text/x-python",
   "name": "python",
   "nbconvert_exporter": "python",
   "pygments_lexer": "ipython3",
   "version": "3.11.7"
  }
 },
 "nbformat": 4,
 "nbformat_minor": 2
}
